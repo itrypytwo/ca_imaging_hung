{
 "cells": [
  {
   "cell_type": "code",
   "execution_count": 1,
   "metadata": {},
   "outputs": [],
   "source": [
    "# transform the *.mat file to a format python can work with\n",
    "# import matlab struct with data from directory\n",
    "\n",
    "import numpy as np\n",
    "import scipy.io as sio\n",
    "import pandas as pd \n",
    "import os\n",
    "from os import listdir"
   ]
  },
  {
   "cell_type": "code",
   "execution_count": 2,
   "metadata": {},
   "outputs": [],
   "source": [
    "# load data from this directory\n",
    "from os.path import isfile, join\n",
    "mypath = 'C:/Users/annek/Documents/Lab/olfactory_bulb_hung/calcium/mat_from_matlab/'\n",
    "\n",
    "# only show files in this folder\n",
    "onlyfiles = [f for f in listdir(mypath) if isfile(join(mypath, f))]\n",
    "n_files = len(onlyfiles)"
   ]
  },
  {
   "cell_type": "code",
   "execution_count": 3,
   "metadata": {},
   "outputs": [],
   "source": [
    "# save npy-files to this directory\n",
    "path_save = 'C:/Users/annek/Documents/Lab/olfactory_bulb_hung/calcium/npy_for_python/'"
   ]
  },
  {
   "cell_type": "code",
   "execution_count": 4,
   "metadata": {},
   "outputs": [
    {
     "name": "stdout",
     "output_type": "stream",
     "text": [
      "180227b\n",
      "180227c\n",
      "180301a\n",
      "180306c\n",
      "180306d\n",
      "180307b\n",
      "180308d\n",
      "180309c\n",
      "180309f\n"
     ]
    }
   ],
   "source": [
    "for i in range (0, n_files):\n",
    "    if '.mat' in onlyfiles[i]: \n",
    "   \n",
    "        # for k in range (0, no_files):\n",
    "        filename = onlyfiles[i]\n",
    "        cell_name = filename[:-4]\n",
    "        print(cell_name)\n",
    "      \n",
    "        # load this data from this direction\n",
    "        mat_contents = sio.loadmat((mypath + filename), squeeze_me=True) #'cell170523a.mat'\n",
    "        sio.whosmat(mypath + filename)\n",
    "\n",
    "        # how are the structure fields named\n",
    "        cond_mat_temp = mat_contents.keys() \n",
    "        n_cond_temp = len(cond_mat_temp)\n",
    "    \n",
    "        # extract second level of the struct\n",
    "        n_traces = len(mat_contents['dGR'])\n",
    "        # dGR\n",
    "        fields_mat_dGR = []\n",
    "        for k in range(0, n_traces):\n",
    "            xytogether = [mat_contents['dGR'][k][m] for m in range(0, 3)]\n",
    "            fields_mat_dGR.append(xytogether)\n",
    "#         fields_mat_dGR.append(mat_contents['dGR'])\n",
    "        n_fields_dGR = len(fields_mat_dGR)\n",
    "    \n",
    "        # G0R\n",
    "        fields_mat_G0R = []\n",
    "        for k in range(0, n_traces):\n",
    "            xytogether = [mat_contents['G0R'][k][m] for m in range(0, 3)]\n",
    "            fields_mat_G0R.append(xytogether)\n",
    "#         fields_mat_G0R.append(mat_contents['G0R'])\n",
    "        n_fields_G0R = len(fields_mat_G0R)\n",
    "    \n",
    "        # red\n",
    "        fields_mat_red = []\n",
    "        for k in range(0, n_traces):\n",
    "            xytogether = [mat_contents['red'][k][m] for m in range(0, 3)]\n",
    "            fields_mat_red.append(xytogether)\n",
    "#         fields_mat_red.append(mat_contents['red'])\n",
    "        n_fields_red = len(fields_mat_red)\n",
    "    \n",
    "        # save\n",
    "        import os\n",
    "        try: \n",
    "            os.makedirs(path_save + cell_name)\n",
    "        except OSError:\n",
    "            if not os.path.isdir(path_save + cell_name):\n",
    "                raise\n",
    "        # dGR\n",
    "        np.save((path_save + cell_name + '/' + cell_name + '_dGR.npy'), fields_mat_dGR)\n",
    "        # G0R\n",
    "        np.save((path_save + cell_name + '/' + cell_name + '_G0R.npy'), fields_mat_G0R)\n",
    "        # red\n",
    "        np.save((path_save + cell_name + '/' + cell_name + '_red.npy'), fields_mat_red)"
   ]
  },
  {
   "cell_type": "code",
   "execution_count": 5,
   "metadata": {},
   "outputs": [
    {
     "name": "stdout",
     "output_type": "stream",
     "text": [
      "23\n"
     ]
    }
   ],
   "source": [
    "print(len(mat_contents['dGR']))"
   ]
  }
 ],
 "metadata": {
  "kernelspec": {
   "display_name": "Python 2",
   "language": "python",
   "name": "python2"
  },
  "language_info": {
   "codemirror_mode": {
    "name": "ipython",
    "version": 2
   },
   "file_extension": ".py",
   "mimetype": "text/x-python",
   "name": "python",
   "nbconvert_exporter": "python",
   "pygments_lexer": "ipython2",
   "version": "2.7.14"
  },
  "varInspector": {
   "cols": {
    "lenName": 16,
    "lenType": 16,
    "lenVar": 40
   },
   "kernels_config": {
    "python": {
     "delete_cmd_postfix": "",
     "delete_cmd_prefix": "del ",
     "library": "var_list.py",
     "varRefreshCmd": "print(var_dic_list())"
    },
    "r": {
     "delete_cmd_postfix": ") ",
     "delete_cmd_prefix": "rm(",
     "library": "var_list.r",
     "varRefreshCmd": "cat(var_dic_list()) "
    }
   },
   "types_to_exclude": [
    "module",
    "function",
    "builtin_function_or_method",
    "instance",
    "_Feature"
   ],
   "window_display": false
  }
 },
 "nbformat": 4,
 "nbformat_minor": 2
}
